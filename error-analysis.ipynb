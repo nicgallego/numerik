{
 "cells": [
  {
   "cell_type": "code",
   "execution_count": 1,
   "metadata": {},
   "outputs": [],
   "source": [
    "import numpy as np\n",
    "import sympy as sp\n",
    "import matplotlib as mpl"
   ]
  },
  {
   "cell_type": "markdown",
   "metadata": {},
   "source": [
    "Source: W. Dahmen, A. Reusken \"Numerik für Ingenieure und Naturwissenshaftler\" 2 Auflage"
   ]
  },
  {
   "cell_type": "markdown",
   "metadata": {},
   "source": [
    "# The condition number of a problem "
   ]
  },
  {
   "cell_type": "markdown",
   "metadata": {},
   "source": [
    "The condition number of a problem measures how the sensitive the output of a problem (or function) is to an error in the input data. It can be defined relative, as the maximum component in the case of a function defined in multiple dimensions ($f: \\mathbb{R}^n \\rightarrow \\mathbb{R}$, as the largest component of the gradient, relative to what is called the error amplification factor:\n",
    "$$\n",
    "\\kappa_{rel}(x) = \\kappa_{rel}^{\\infty}(x) = \\max_{j=1\\dots n} \\left| \\frac{\\partial f(x)}{\\partial x_j} \\frac{x_j}{f(x)} \\right|\n",
    "$$"
   ]
  },
  {
   "cell_type": "markdown",
   "metadata": {},
   "source": [
    "## Example (2.12, page 23)"
   ]
  },
  {
   "cell_type": "markdown",
   "metadata": {},
   "source": [
    "Given the function $f: \\mathbb{R} \\rightarrow \\mathbb{R}$, $f(x) = \\exp{(3x^2)}$. The relative condition number is given by:\n",
    "\n",
    "\\begin{align*}\n",
    "\\kappa_{rel}(x) &= \\left| f'(x) \\frac{x}{f(x)} \\right| \\\\\n",
    "&= \\left| 6x \\exp{(3x^2)} \\frac{x}{\\exp{(3x^2)}} \\right| \\\\\n",
    "&= 6x^2\n",
    "\\end{align*}\n"
   ]
  },
  {
   "cell_type": "markdown",
   "metadata": {},
   "source": [
    "From this it is evident that the relative condition number would be small for small input magnitude but grows fast."
   ]
  },
  {
   "cell_type": "code",
   "execution_count": 2,
   "metadata": {},
   "outputs": [],
   "source": [
    "def f(x):\n",
    "    return np.exp(3*x**2) \n",
    "\n",
    "def rel_err(val, valp):\n",
    "    return np.abs((val - valp)/val)"
   ]
  },
  {
   "cell_type": "code",
   "execution_count": 3,
   "metadata": {},
   "outputs": [
    {
     "data": {
      "text/plain": [
       "9.999999999996123e-05"
      ]
     },
     "execution_count": 3,
     "metadata": {},
     "output_type": "execute_result"
    }
   ],
   "source": [
    "x1 = 0.1\n",
    "x1p = 0.10001\n",
    "ie1 = rel_err(x1,x1p)\n",
    "ie1"
   ]
  },
  {
   "cell_type": "code",
   "execution_count": 4,
   "metadata": {},
   "outputs": [
    {
     "data": {
      "text/plain": [
       "6.000318001768653e-06"
      ]
     },
     "execution_count": 4,
     "metadata": {},
     "output_type": "execute_result"
    }
   ],
   "source": [
    "y1 = f(x1)\n",
    "y1p = f(x1p)\n",
    "oe1 = rel_err(y1, y1p)\n",
    "oe1"
   ]
  },
  {
   "cell_type": "markdown",
   "metadata": {},
   "source": [
    "While arround a bigger $x$, for the same input error, the output error will be much bigger"
   ]
  },
  {
   "cell_type": "code",
   "execution_count": 5,
   "metadata": {},
   "outputs": [
    {
     "data": {
      "text/plain": [
       "9.999999999998899e-05"
      ]
     },
     "execution_count": 5,
     "metadata": {},
     "output_type": "execute_result"
    }
   ],
   "source": [
    "x2 = 4\n",
    "x2p = 4.0004\n",
    "ie2 = rel_err(x2,x2p)\n",
    "ie2"
   ]
  },
  {
   "cell_type": "code",
   "execution_count": 6,
   "metadata": {},
   "outputs": [
    {
     "data": {
      "text/plain": [
       "0.009646712440876656"
      ]
     },
     "execution_count": 6,
     "metadata": {},
     "output_type": "execute_result"
    }
   ],
   "source": [
    "y2 = f(x2)\n",
    "y2p = f(x2p)\n",
    "oe2 = rel_err(y2, y2p)\n",
    "oe2"
   ]
  },
  {
   "cell_type": "code",
   "execution_count": 7,
   "metadata": {},
   "outputs": [
    {
     "data": {
      "text/plain": [
       "1607.7001982283593"
      ]
     },
     "execution_count": 7,
     "metadata": {},
     "output_type": "execute_result"
    }
   ],
   "source": [
    "q = oe2 / oe1\n",
    "q"
   ]
  },
  {
   "cell_type": "markdown",
   "metadata": {},
   "source": [
    "To summarize, I understand what is happening here in the following way. The analysis starts with the taylor series of the function around $x$. For the function $f: \\mathbb{R}^n \\rightarrow \\mathbb{R}$\n",
    "\n",
    "$$\n",
    "f(\\tilde{x}) = f(x) + (\\nabla f(x) )^T (\\tilde{x} - x) + \\mathcal{O}(\\Vert \\tilde{x} - x \\Vert^2), \\quad (\\tilde{x} \\rightarrow x).\n",
    "$$"
   ]
  },
  {
   "cell_type": "markdown",
   "metadata": {},
   "source": [
    "When $\\Vert \\tilde{x} - x \\Vert^2$ is small, $\\tilde{x}$ and $x$ are close to each other and one can ignore the second order term\n",
    "$$\n",
    "f(\\tilde{x}) \\dot{=} f(x) + (\\nabla f(x))^T (\\tilde{x} - x)\n",
    "$$"
   ]
  },
  {
   "cell_type": "markdown",
   "metadata": {},
   "source": [
    "This this first order approximation, can be rewritten to reveal input output relationship, as above, between the relative input and output\n",
    "\n",
    "$$\n",
    "f(\\tilde{x}) - f(x) \\dot{=} \\sum_{j=1}^{n} \\frac{\\partial f}{\\partial x_j} (\\tilde{x}_j - x_j)\n",
    "$$\n"
   ]
  },
  {
   "cell_type": "markdown",
   "metadata": {},
   "source": [
    "Dividing both sides by $f(x)$ and multipliying each of the sum terms by $1 = \\frac{x_j}{x_j}$ for $j=1\\dots n$ \n",
    "\n",
    "$$\n",
    "\\frac{f(\\tilde{x}) - f(x)}{f(x)} \\dot{=} \\sum_{j=1}^{n} \\frac{\\partial f}{\\partial x_j} \\cdot \\frac{x_j}{f(x)} \\cdot \\frac{\\tilde{x}_j - x_j}{x_j}\n",
    "$$"
   ]
  },
  {
   "cell_type": "markdown",
   "metadata": {},
   "source": [
    "define the amplification factors\n",
    "\n",
    "$$\n",
    "\\phi_j(x) := \\frac{\\partial f}{\\partial x_j} \\cdot \\frac{x_j}{f(x)}\n",
    "$$"
   ]
  },
  {
   "cell_type": "markdown",
   "metadata": {},
   "source": [
    "Results in the formula for the relative output error as the sum of each of the components of the amplified input relative error. \n",
    "\n",
    "$$\n",
    "\\frac{f(\\tilde{x}) - f(x)}{f(x)} \\dot{=} \\sum_{j=1}^n \\phi_j(x) \\cdot \\frac{\\tilde{x}_j - x_j}{x_j}\n",
    "$$"
   ]
  },
  {
   "cell_type": "markdown",
   "metadata": {},
   "source": [
    "which magnitude can be bounded above by defining the relative condition numerber as the maximum absolute value of the amplifiying factors, as done above, \n",
    "\n",
    "$$\n",
    "\\kappa_{rel}(x) = \\kappa_{rel}^{\\infty}(x) = \\max_{j} \\left| \\frac{\\partial f}{\\partial x_j} \\cdot \\frac{x_j}{f(x)} \\right|\n",
    "$$"
   ]
  },
  {
   "cell_type": "markdown",
   "metadata": {},
   "source": [
    "$$\n",
    "\\left| \\frac{f(\\tilde{x} - f(x)}{f(x)} \\right| \\dot{\\leq} \\kappa_{rel}(x) \\sum_{j=1}^n \\left| \\frac{\\tilde{x}_j - x_j}{x_j} \\right|\n",
    "$$"
   ]
  },
  {
   "cell_type": "markdown",
   "metadata": {},
   "source": [
    "Arithmetic operations: addition, multiplication and division are well conditioned, only substraction can be arbitrarily ill-conditioned. Consider the addition example:"
   ]
  },
  {
   "cell_type": "markdown",
   "metadata": {},
   "source": [
    "## Addition (example 2.14)"
   ]
  },
  {
   "cell_type": "code",
   "execution_count": 21,
   "metadata": {},
   "outputs": [
    {
     "data": {
      "text/latex": [
       "$\\displaystyle x_{1} + x_{2}$"
      ],
      "text/plain": [
       "x1 + x2"
      ]
     },
     "execution_count": 21,
     "metadata": {},
     "output_type": "execute_result"
    }
   ],
   "source": [
    "x1, x2 = sp.symbols('x1, x2')\n",
    "x = sp.Matrix([[x1],[x2]])\n",
    "f = (sp.Matrix([[1, 1]])*x)[0,0]\n",
    "f"
   ]
  },
  {
   "cell_type": "code",
   "execution_count": 23,
   "metadata": {},
   "outputs": [
    {
     "data": {
      "text/latex": [
       "$\\displaystyle 1$"
      ],
      "text/plain": [
       "1"
      ]
     },
     "execution_count": 23,
     "metadata": {},
     "output_type": "execute_result"
    }
   ],
   "source": [
    "dfdx1 = sp.diff(f,x1)\n",
    "dfdx1"
   ]
  },
  {
   "cell_type": "code",
   "execution_count": 24,
   "metadata": {},
   "outputs": [
    {
     "data": {
      "text/latex": [
       "$\\displaystyle 1$"
      ],
      "text/plain": [
       "1"
      ]
     },
     "execution_count": 24,
     "metadata": {},
     "output_type": "execute_result"
    }
   ],
   "source": [
    "dfdx2 = sp.diff(f,x2)\n",
    "dfdx2"
   ]
  },
  {
   "cell_type": "code",
   "execution_count": 25,
   "metadata": {},
   "outputs": [
    {
     "data": {
      "text/latex": [
       "$\\displaystyle \\frac{x_{1}}{x_{1} + x_{2}}$"
      ],
      "text/plain": [
       "x1/(x1 + x2)"
      ]
     },
     "execution_count": 25,
     "metadata": {},
     "output_type": "execute_result"
    }
   ],
   "source": [
    "phi1 = dfdx1 * x1 / f\n",
    "phi1"
   ]
  },
  {
   "cell_type": "code",
   "execution_count": 27,
   "metadata": {},
   "outputs": [
    {
     "data": {
      "text/latex": [
       "$\\displaystyle \\frac{x_{2}}{x_{1} + x_{2}}$"
      ],
      "text/plain": [
       "x2/(x1 + x2)"
      ]
     },
     "execution_count": 27,
     "metadata": {},
     "output_type": "execute_result"
    }
   ],
   "source": [
    "phi2 = dfdx2 * x2 / f\n",
    "phi2"
   ]
  },
  {
   "cell_type": "markdown",
   "metadata": {},
   "source": [
    "thus the output relative error is bounded for the addition, since"
   ]
  },
  {
   "cell_type": "markdown",
   "metadata": {},
   "source": [
    "\\begin{align*}\n",
    "\\left| \\frac{f(\\tilde{x}) - f(x)}{f(x)} \\right| &= \\left| \\frac{(\\tilde{x}_1 + \\tilde{x}_2) - (x_1 + x_2)}{x_1 + x_2} \\right| \\\\\n",
    "&\\leq \\kappa_{rel} \\left( \\left| \\frac{\\tilde{x}_1 - x_1}{x_1}\\right| + \\left| \\frac{\\tilde{x}_2 - x_2}{x_2} \\right| \\right) \\\\\n",
    "&\\leq \\kappa_{rel} 2 \\epsilon\n",
    "\\end{align*}"
   ]
  },
  {
   "cell_type": "markdown",
   "metadata": {},
   "source": [
    "where: $\\left| \\frac{\\tilde{x}_1 - x_1}{x_1} \\right|,\\, \\left| \\frac{\\tilde{x}_2 - x_2}{x_2} \\right| \\leq \\epsilon$"
   ]
  },
  {
   "cell_type": "markdown",
   "metadata": {},
   "source": [
    "## Substraction!"
   ]
  },
  {
   "cell_type": "markdown",
   "metadata": {},
   "source": [
    "Interestingly, a substraction is a sum with $x_1$ and $x_2$ having different sings. It is problematic when the magnitudes of $x_1$ and $x_2$ are similar and the result approaches 0. In this case holds,\n",
    "\n",
    "$$\n",
    "\\left| x_1 + x_2 \\right| << |x_i|\n",
    "$$"
   ]
  },
  {
   "cell_type": "markdown",
   "metadata": {},
   "source": [
    "in this case the factors $\\phi_j(x)$, $j=1,2$ can be arbitrarily large, and $\\kappa_{rel}(x) >> 1$ cannot be bound by a constant."
   ]
  },
  {
   "cell_type": "code",
   "execution_count": null,
   "metadata": {},
   "outputs": [],
   "source": []
  }
 ],
 "metadata": {
  "kernelspec": {
   "display_name": "Python 3",
   "language": "python",
   "name": "python3"
  },
  "language_info": {
   "codemirror_mode": {
    "name": "ipython",
    "version": 3
   },
   "file_extension": ".py",
   "mimetype": "text/x-python",
   "name": "python",
   "nbconvert_exporter": "python",
   "pygments_lexer": "ipython3",
   "version": "3.7.1"
  }
 },
 "nbformat": 4,
 "nbformat_minor": 2
}
