{
 "cells": [
  {
   "cell_type": "code",
   "execution_count": 2,
   "metadata": {},
   "outputs": [],
   "source": [
    "import numpy as np\n",
    "import sympy as sp\n",
    "import matplotlib as mpl"
   ]
  },
  {
   "cell_type": "markdown",
   "metadata": {},
   "source": [
    "Source: W. Dahmen, A. Reusken \"Numerik für Ingenieure und Naturwissenshaftler\" 2 Auflage"
   ]
  },
  {
   "cell_type": "markdown",
   "metadata": {},
   "source": [
    "# The condition number of a problem "
   ]
  },
  {
   "cell_type": "markdown",
   "metadata": {},
   "source": [
    "The condition number of a problem measures how the sensitive the output of a problem (or function) is to an error in the input data. It can be defined relative, as the maximum component in the case of a function defined in multiple dimensions ($f: \\mathbb{R}^n \\rightarrow \\mathbb{R}$, as the largest component of the gradient, relative to what is called the error applification factor:\n",
    "$$\n",
    "\\kappa_{rel}(x) = \\kappa_{rel}^{\\infty}(x) = \\max_{j=1\\dots n} \\left| \\frac{\\partial f(x)}{\\partial x_j} \\frac{x_j}{f(x)} \\right|\n",
    "$$"
   ]
  },
  {
   "cell_type": "markdown",
   "metadata": {},
   "source": [
    "## Example (2.12, page 23)"
   ]
  },
  {
   "cell_type": "markdown",
   "metadata": {},
   "source": [
    "Given the function $f: \\mathbb{R} \\rightarrow \\mathbb{R}$, $f(x) = \\exp{(3x^2)}$. The relative condition number is given by:\n",
    "\n",
    "\\begin{align*}\n",
    "\\kappa_{rel}(x) &= \\left| f'(x) \\frac{x}{f(x)} \\right| \\\\\n",
    "&= \\left| 6x \\exp{(3x^2)} \\frac{x}{\\exp{(3x^2)}} \\right| \\\\\n",
    "&= 6x^2\n",
    "\\end{align*}\n"
   ]
  },
  {
   "cell_type": "markdown",
   "metadata": {},
   "source": [
    "From this it is evident that the relative condition number would be small for small input magnitude but grows fast."
   ]
  },
  {
   "cell_type": "code",
   "execution_count": 8,
   "metadata": {},
   "outputs": [],
   "source": [
    "def f(x):\n",
    "    return np.exp(3*x**2) \n",
    "\n",
    "def rel_err(val, valp):\n",
    "    return np.abs((val - valp)/val)"
   ]
  },
  {
   "cell_type": "code",
   "execution_count": 9,
   "metadata": {},
   "outputs": [
    {
     "data": {
      "text/plain": [
       "9.999999999996123e-05"
      ]
     },
     "execution_count": 9,
     "metadata": {},
     "output_type": "execute_result"
    }
   ],
   "source": [
    "x1 = 0.1\n",
    "x1p = 0.10001\n",
    "ie1 = rel_err(x1,x1p)\n",
    "ie1"
   ]
  },
  {
   "cell_type": "code",
   "execution_count": 10,
   "metadata": {},
   "outputs": [
    {
     "data": {
      "text/plain": [
       "6.000318001768653e-06"
      ]
     },
     "execution_count": 10,
     "metadata": {},
     "output_type": "execute_result"
    }
   ],
   "source": [
    "y1 = f(x1)\n",
    "y1p = f(x1p)\n",
    "oe1 = rel_err(y1, y1p)\n",
    "oe1"
   ]
  },
  {
   "cell_type": "markdown",
   "metadata": {},
   "source": [
    "While arround a bigger $x$, for the same input error, the output error will be much bigger"
   ]
  },
  {
   "cell_type": "code",
   "execution_count": 11,
   "metadata": {},
   "outputs": [
    {
     "data": {
      "text/plain": [
       "9.999999999998899e-05"
      ]
     },
     "execution_count": 11,
     "metadata": {},
     "output_type": "execute_result"
    }
   ],
   "source": [
    "x2 = 4\n",
    "x2p = 4.0004\n",
    "ie2 = rel_err(x2,x2p)\n",
    "ie2"
   ]
  },
  {
   "cell_type": "code",
   "execution_count": 13,
   "metadata": {},
   "outputs": [
    {
     "data": {
      "text/plain": [
       "0.009646712440876656"
      ]
     },
     "execution_count": 13,
     "metadata": {},
     "output_type": "execute_result"
    }
   ],
   "source": [
    "y2 = f(x2)\n",
    "y2p = f(x2p)\n",
    "oe2 = rel_err(y2, y2p)\n",
    "oe2"
   ]
  },
  {
   "cell_type": "code",
   "execution_count": 15,
   "metadata": {},
   "outputs": [
    {
     "data": {
      "text/plain": [
       "1607.7001982283593"
      ]
     },
     "execution_count": 15,
     "metadata": {},
     "output_type": "execute_result"
    }
   ],
   "source": [
    "q = oe2 / oe1\n",
    "q"
   ]
  },
  {
   "cell_type": "code",
   "execution_count": null,
   "metadata": {},
   "outputs": [],
   "source": []
  }
 ],
 "metadata": {
  "kernelspec": {
   "display_name": "Python 3",
   "language": "python",
   "name": "python3"
  },
  "language_info": {
   "codemirror_mode": {
    "name": "ipython",
    "version": 3
   },
   "file_extension": ".py",
   "mimetype": "text/x-python",
   "name": "python",
   "nbconvert_exporter": "python",
   "pygments_lexer": "ipython3",
   "version": "3.7.1"
  }
 },
 "nbformat": 4,
 "nbformat_minor": 2
}
